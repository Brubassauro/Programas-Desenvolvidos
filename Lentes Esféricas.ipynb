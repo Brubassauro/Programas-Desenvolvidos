{
  "nbformat": 4,
  "nbformat_minor": 0,
  "metadata": {
    "colab": {
      "name": "Lentes Esféricas",
      "provenance": []
    },
    "kernelspec": {
      "name": "python3",
      "display_name": "Python 3"
    }
  },
  "cells": [
    {
      "cell_type": "code",
      "metadata": {
        "id": "Fc-_U_PMldU0",
        "colab_type": "code",
        "colab": {
          "base_uri": "https://localhost:8080/",
          "height": 329
        },
        "outputId": "aac6fb17-c7cc-4248-d434-9280a19718fb"
      },
      "source": [
        "# O PROGRAMA SIMULA A TRAJETÓRIA DA LUZ PASSANDO POR UM SISTEMA DE DUAS LENTES ESFÉRICAS UTILIZANDO MATRIZES\n",
        "\n",
        "import numpy as np\n",
        "import matplotlib.pyplot as plt\n",
        "def funcao(i,o,d,fc,fd,r1):\n",
        "  m5=[[1,i],[0,1]]\n",
        "  m4=[[1,0],[(-1/fc),1]]\n",
        "  m3=[[1,d],[0,1]]\n",
        "  m2=[[1,0],[(-1/fd),1]]\n",
        "  m1=[[1,o],[0,1]]\n",
        "  A=np.dot(m1,m2)\n",
        "  B=np.dot(A,m3)\n",
        "  C=np.dot(B,m4)\n",
        "  D=np.dot(C,m5)\n",
        "  (r2,t2)=np.dot(m1,[r1,0])\n",
        "  (r3,t3)=np.dot(m2,[r2,t2])\n",
        "  (r4,t4)=np.dot(m3,[r3,t3]) \n",
        "  (r5,t5)=np.dot(m4,[r4,t4])\n",
        "  (im,tf)=np.dot(m5,[r5,t5])\n",
        "  print(\"Alturas: (\",r1,',',r2,',',r3,',',r4,',',r5,',',im,\")\")\n",
        "  print(\"Angulos: (\",0,',',t2,',',t3,',',t4,',',t5,',',tf,\")\")\n",
        "  plt.plot([0,o,o+d,o+d+i],[r1,r3,r5,im]) #Caminho da luz\n",
        "  plt.plot([o,o],[0,r3+2],color='black') #Lente divergente\n",
        "  plt.plot([o+d,o+d],[0,r4+2],color='black') #Lente convergente\n",
        "  plt.plot([0,0],[0,r1],label='Objeto') #Objeto\n",
        "  plt.plot([o+d+i,o+d+i],[0,im],label='Imagem') #Imagem\n",
        "  plt.plot([-2,i+d+o+2],[0,0],color='black')\n",
        "  plt.title(\"Caminho da luz\")\n",
        "  plt.ylabel('Altura (cm)')\n",
        "  plt.xlabel(\"Distância (cm)\")\n",
        "  plt.legend()\n",
        "  \n",
        "funcao(60,7.5,25.5,35,-10,2) #AQUI VOCÊS COLOCAM OS VALORES RESPECTIVAMENTE PARA i,o,d,fc,fd,r1"
      ],
      "execution_count": 1,
      "outputs": [
        {
          "output_type": "stream",
          "text": [
            "Alturas: ( 2 , 2.0 , 2.0 , 7.1000000000000005 , 7.1000000000000005 , 6.928571428571429 )\n",
            "Angulos: ( 0 , 0.0 , 0.2 , 0.2 , -0.0028571428571428636 , -0.0028571428571428636 )\n"
          ],
          "name": "stdout"
        },
        {
          "output_type": "display_data",
          "data": {
            "image/png": "[encoded data removed]",
            "text/plain": [
              "<Figure size 432x288 with 1 Axes>"
            ]
          },
          "metadata": {
            "tags": []
          }
        }
      ]
    }
  ]
}